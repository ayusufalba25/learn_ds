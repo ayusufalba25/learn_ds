{
 "cells": [
  {
   "cell_type": "markdown",
   "metadata": {},
   "source": [
    "Statistical learning refers to a vast set of tools for understanding data. It is usually classified as:\n",
    "1. Supervised learning: It is typically involves building a statistical model to predict or estimate an output based on one or more inputs.\n",
    "2. Unsupervised learning: It is used to uncover hidden pattern or relationships and structure within the data since the data doesn't have any supervising output."
   ]
  },
  {
   "cell_type": "code",
   "execution_count": null,
   "metadata": {},
   "outputs": [],
   "source": []
  }
 ],
 "metadata": {
  "language_info": {
   "name": "python"
  }
 },
 "nbformat": 4,
 "nbformat_minor": 2
}
