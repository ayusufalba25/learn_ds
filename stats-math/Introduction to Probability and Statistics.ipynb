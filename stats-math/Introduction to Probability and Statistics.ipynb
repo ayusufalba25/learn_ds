{
 "cells": [
  {
   "cell_type": "code",
   "execution_count": 1,
   "id": "ccbbca78-4aeb-413e-ab1f-9493dd1491bf",
   "metadata": {},
   "outputs": [],
   "source": [
    "# Import library\n",
    "import numpy as np\n",
    "import pandas as pd\n",
    "import matplotlib.pyplot as plt\n",
    "import seaborn as sns\n",
    "from sympy import *"
   ]
  },
  {
   "cell_type": "markdown",
   "id": "78b8403a-ff74-48ea-9eeb-fb952beb8b73",
   "metadata": {},
   "source": [
    "# Chapter 1. Set Theory and Basic Calculus"
   ]
  },
  {
   "cell_type": "code",
   "execution_count": null,
   "id": "5a55fd3b-11c2-4691-ba05-06c1a9ad6c1e",
   "metadata": {},
   "outputs": [],
   "source": []
  },
  {
   "cell_type": "markdown",
   "id": "81aff9fb-e597-448e-a308-5894adb7273a",
   "metadata": {},
   "source": [
    "# Chapter 2. Probability"
   ]
  },
  {
   "cell_type": "code",
   "execution_count": null,
   "id": "43e8f70a-8bcc-4a25-b44d-c8fee86ec773",
   "metadata": {},
   "outputs": [],
   "source": []
  }
 ],
 "metadata": {
  "kernelspec": {
   "display_name": "Python 3 (ipykernel)",
   "language": "python",
   "name": "python3"
  },
  "language_info": {
   "codemirror_mode": {
    "name": "ipython",
    "version": 3
   },
   "file_extension": ".py",
   "mimetype": "text/x-python",
   "name": "python",
   "nbconvert_exporter": "python",
   "pygments_lexer": "ipython3",
   "version": "3.12.4"
  }
 },
 "nbformat": 4,
 "nbformat_minor": 5
}
